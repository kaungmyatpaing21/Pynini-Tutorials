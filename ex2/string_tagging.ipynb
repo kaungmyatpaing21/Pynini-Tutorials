{
 "cells": [
  {
   "cell_type": "code",
   "execution_count": 2,
   "metadata": {},
   "outputs": [],
   "source": [
    "import pynini\n",
    "import string"
   ]
  },
  {
   "cell_type": "markdown",
   "metadata": {},
   "source": [
    "#### String Tagging"
   ]
  },
  {
   "cell_type": "markdown",
   "metadata": {},
   "source": [
    "Imagine that we have a collection of texts and we wish to place XML-style tags around any mention of a various types of fine cheese."
   ]
  },
  {
   "cell_type": "markdown",
   "metadata": {},
   "source": [
    "Collection of string: [\"Boursin\", \"Camembert\", \"Cheddar\", \"Edam\", \"Gruyere\",\n",
    "                       \"Ilchester\", \"Jarlsberg\", \"Red Leicester\", \"Stilton\"]"
   ]
  },
  {
   "cell_type": "markdown",
   "metadata": {},
   "source": [
    "Input : \"Do you have Camembert or Edam?\""
   ]
  },
  {
   "cell_type": "markdown",
   "metadata": {},
   "source": [
    "output = \"Do you have < cheese >Camembert</ cheese > or < cheese >Edam</ cheese >?\""
   ]
  },
  {
   "cell_type": "code",
   "execution_count": 4,
   "metadata": {},
   "outputs": [],
   "source": [
    "input_string = \"Do you have Cheddar or Edam?\"\n",
    "\n",
    "cheeses = (\"Boursin\", \"Camembert\", \"Cheddar\", \"Edam\", \"Gruyere\",\n",
    "           \"Ilchester\", \"Jarlsberg\", \"Red Leicester\", \"Stilton\")\n",
    "\n",
    "fst_target = pynini.string_map(cheeses)\n",
    "\n",
    "ltag = pynini.transducer(\"\", \"<cheese>\")\n",
    "rtag = pynini.transducer(\"\", \"</cheese>\")\n",
    "\n",
    "substitution = ltag + fst_target + rtag\n",
    "\n",
    "chars = [chr(i) for i in range(1, 91)] + [r\"\\[\", r\"\\\\\", r\"\\]\"] + [chr(i) for i in range(94, 256)]\n",
    "sigma_star = pynini.union(*chars).closure()\n",
    "\n",
    "rewrite = pynini.cdrewrite(substitution, \"\", \"\", sigma_star)\n",
    "output = pynini.compose(input_string, rewrite).stringify()"
   ]
  },
  {
   "cell_type": "code",
   "execution_count": 5,
   "metadata": {
    "scrolled": true
   },
   "outputs": [
    {
     "name": "stdout",
     "output_type": "stream",
     "text": [
      "Do you have <cheese>Cheddar</cheese> or <cheese>Edam</cheese>?\n"
     ]
    }
   ],
   "source": [
    "print(output)"
   ]
  },
  {
   "cell_type": "markdown",
   "metadata": {},
   "source": [
    "#### Plural Phase"
   ]
  },
  {
   "cell_type": "code",
   "execution_count": 8,
   "metadata": {},
   "outputs": [],
   "source": [
    "singular_map = pynini.union(\n",
    "    pynini.transducer(\"feet\", \"foot\"),\n",
    "    pynini.transducer(\"pence\", \"penny\"),\n",
    "\n",
    "    # Any sequence of bytes ending in \"ches\" strips the \"es\";\n",
    "    # the last argument -1 is a \"weight\" that gives this analysis a higher priority, if it matches the input.\n",
    "    sigma_star + pynini.transducer(\"ches\", \"ch\", -1),\n",
    "\n",
    "    # Any sequence of bytes ending in \"s\" strips the \"s\".\n",
    "    sigma_star + pynini.transducer(\"s\", \"\")\n",
    ")\n",
    "\n",
    "rc = pynini.union(\".\", \",\", \"!\", \";\", \"?\", \" \", \"[EOS]\")\n",
    "singularize = pynini.cdrewrite(singular_map, \" 1 \", rc, sigma_star)\n",
    "singularize.optimize(compute_props=True)\n",
    "\n",
    "# singularize = pynini.epsnormalize(singularize, eps_norm_output=True)\n",
    "# singularize = pynini.disambiguate(singularize)\n",
    "# determ_singularize = pynini.determinize(singularize, det_type=\"nonfunctional\")\n",
    "# determ_singularize.minimize(allow_nondet=False)\n",
    "\n",
    "#change your dir path\n",
    "singularize.draw('/home/rhythm/Data/office dell data/python_codes/pynini/ex2/singularize.dot')\n",
    "singularize.write('/home/rhythm/Data/office dell data/python_codes/pynini/ex2/singularize.fst')\n",
    "\n",
    "\n",
    "def _singularize(string):\n",
    "    return pynini.shortestpath(\n",
    "        pynini.compose(string.strip(), singularize)).stringify()"
   ]
  },
  {
   "cell_type": "code",
   "execution_count": 14,
   "metadata": {},
   "outputs": [
    {
     "name": "stdout",
     "output_type": "stream",
     "text": [
      "The current temperature in New York is 1 degree.\n"
     ]
    }
   ],
   "source": [
    "print(_singularize(\"The current temperature in New York is 1 degrees.\"))"
   ]
  },
  {
   "cell_type": "code",
   "execution_count": null,
   "metadata": {},
   "outputs": [],
   "source": []
  }
 ],
 "metadata": {
  "kernelspec": {
   "display_name": "Python 3",
   "language": "python",
   "name": "python3"
  },
  "language_info": {
   "codemirror_mode": {
    "name": "ipython",
    "version": 3
   },
   "file_extension": ".py",
   "mimetype": "text/x-python",
   "name": "python",
   "nbconvert_exporter": "python",
   "pygments_lexer": "ipython3",
   "version": "3.7.3"
  }
 },
 "nbformat": 4,
 "nbformat_minor": 2
}
